{
 "cells": [
  {
   "cell_type": "code",
   "execution_count": 1,
   "metadata": {},
   "outputs": [],
   "source": [
    "import pandas as pd"
   ]
  },
  {
   "cell_type": "code",
   "execution_count": 2,
   "metadata": {},
   "outputs": [
    {
     "data": {
      "text/html": [
       "<div>\n",
       "<style scoped>\n",
       "    .dataframe tbody tr th:only-of-type {\n",
       "        vertical-align: middle;\n",
       "    }\n",
       "\n",
       "    .dataframe tbody tr th {\n",
       "        vertical-align: top;\n",
       "    }\n",
       "\n",
       "    .dataframe thead th {\n",
       "        text-align: right;\n",
       "    }\n",
       "</style>\n",
       "<table border=\"1\" class=\"dataframe\">\n",
       "  <thead>\n",
       "    <tr style=\"text-align: right;\">\n",
       "      <th></th>\n",
       "      <th>Покупатель</th>\n",
       "      <th>Сумма</th>\n",
       "      <th>Название фильма</th>\n",
       "      <th>Дата платежа</th>\n",
       "      <th>Магазин</th>\n",
       "    </tr>\n",
       "  </thead>\n",
       "  <tbody>\n",
       "    <tr>\n",
       "      <th>0</th>\n",
       "      <td>Peter Menard</td>\n",
       "      <td>7.99</td>\n",
       "      <td>Rules Human</td>\n",
       "      <td>2007-02-15 22:25:46</td>\n",
       "      <td>Магазин 1</td>\n",
       "    </tr>\n",
       "    <tr>\n",
       "      <th>1</th>\n",
       "      <td>Peter Menard</td>\n",
       "      <td>1.99</td>\n",
       "      <td>Majestic Floats</td>\n",
       "      <td>2007-02-16 17:23:14</td>\n",
       "      <td>Магазин 2</td>\n",
       "    </tr>\n",
       "    <tr>\n",
       "      <th>2</th>\n",
       "      <td>Peter Menard</td>\n",
       "      <td>7.99</td>\n",
       "      <td>Maiden Home</td>\n",
       "      <td>2007-02-16 22:41:45</td>\n",
       "      <td>Магазин 1</td>\n",
       "    </tr>\n",
       "    <tr>\n",
       "      <th>3</th>\n",
       "      <td>Peter Menard</td>\n",
       "      <td>2.99</td>\n",
       "      <td>Hyde Doctor</td>\n",
       "      <td>2007-02-19 19:39:56</td>\n",
       "      <td>Магазин 1</td>\n",
       "    </tr>\n",
       "    <tr>\n",
       "      <th>4</th>\n",
       "      <td>Peter Menard</td>\n",
       "      <td>7.99</td>\n",
       "      <td>Massacre Usual</td>\n",
       "      <td>2007-02-20 17:31:48</td>\n",
       "      <td>Магазин 1</td>\n",
       "    </tr>\n",
       "  </tbody>\n",
       "</table>\n",
       "</div>"
      ],
      "text/plain": [
       "     Покупатель  Сумма  Название фильма         Дата платежа    Магазин\n",
       "0  Peter Menard   7.99      Rules Human  2007-02-15 22:25:46  Магазин 1\n",
       "1  Peter Menard   1.99  Majestic Floats  2007-02-16 17:23:14  Магазин 2\n",
       "2  Peter Menard   7.99      Maiden Home  2007-02-16 22:41:45  Магазин 1\n",
       "3  Peter Menard   2.99      Hyde Doctor  2007-02-19 19:39:56  Магазин 1\n",
       "4  Peter Menard   7.99   Massacre Usual  2007-02-20 17:31:48  Магазин 1"
      ]
     },
     "execution_count": 2,
     "metadata": {},
     "output_type": "execute_result"
    }
   ],
   "source": [
    "df = pd.read_csv('sales.csv')\n",
    "df.head(5)"
   ]
  },
  {
   "cell_type": "code",
   "execution_count": 3,
   "metadata": {},
   "outputs": [
    {
     "data": {
      "text/plain": [
       "Название фильма\n",
       "Telegraph Voyage    215.75\n",
       "Zorro Ark           199.72\n",
       "Wife Turn           198.73\n",
       "Innocent Usual      191.74\n",
       "Hustler Party       190.78\n",
       "Name: Сумма, dtype: float64"
      ]
     },
     "execution_count": 3,
     "metadata": {},
     "output_type": "execute_result"
    }
   ],
   "source": [
    "#Топ-5 по обоим магазинам\n",
    "ton5 = df.groupby(df['Название фильма'])['Сумма'].sum().sort_values(ascending=False)\n",
    "ton5.head(5)"
   ]
  },
  {
   "cell_type": "code",
   "execution_count": 4,
   "metadata": {},
   "outputs": [
    {
     "data": {
      "text/html": [
       "<div>\n",
       "<style scoped>\n",
       "    .dataframe tbody tr th:only-of-type {\n",
       "        vertical-align: middle;\n",
       "    }\n",
       "\n",
       "    .dataframe tbody tr th {\n",
       "        vertical-align: top;\n",
       "    }\n",
       "\n",
       "    .dataframe thead th {\n",
       "        text-align: right;\n",
       "    }\n",
       "</style>\n",
       "<table border=\"1\" class=\"dataframe\">\n",
       "  <thead>\n",
       "    <tr style=\"text-align: right;\">\n",
       "      <th></th>\n",
       "      <th>Покупатель</th>\n",
       "      <th>Сумма</th>\n",
       "      <th>Название фильма</th>\n",
       "      <th>Дата платежа</th>\n",
       "      <th>Магазин</th>\n",
       "    </tr>\n",
       "  </thead>\n",
       "  <tbody>\n",
       "    <tr>\n",
       "      <th>0</th>\n",
       "      <td>Peter Menard</td>\n",
       "      <td>7.99</td>\n",
       "      <td>Rules Human</td>\n",
       "      <td>2007-02-15 22:25:46</td>\n",
       "      <td>Магазин 1</td>\n",
       "    </tr>\n",
       "    <tr>\n",
       "      <th>1</th>\n",
       "      <td>Peter Menard</td>\n",
       "      <td>7.99</td>\n",
       "      <td>Maiden Home</td>\n",
       "      <td>2007-02-16 22:41:45</td>\n",
       "      <td>Магазин 1</td>\n",
       "    </tr>\n",
       "    <tr>\n",
       "      <th>2</th>\n",
       "      <td>Peter Menard</td>\n",
       "      <td>2.99</td>\n",
       "      <td>Hyde Doctor</td>\n",
       "      <td>2007-02-19 19:39:56</td>\n",
       "      <td>Магазин 1</td>\n",
       "    </tr>\n",
       "    <tr>\n",
       "      <th>3</th>\n",
       "      <td>Peter Menard</td>\n",
       "      <td>7.99</td>\n",
       "      <td>Massacre Usual</td>\n",
       "      <td>2007-02-20 17:31:48</td>\n",
       "      <td>Магазин 1</td>\n",
       "    </tr>\n",
       "    <tr>\n",
       "      <th>4</th>\n",
       "      <td>Peter Menard</td>\n",
       "      <td>5.99</td>\n",
       "      <td>Annie Identity</td>\n",
       "      <td>2007-02-21 12:33:49</td>\n",
       "      <td>Магазин 1</td>\n",
       "    </tr>\n",
       "  </tbody>\n",
       "</table>\n",
       "</div>"
      ],
      "text/plain": [
       "     Покупатель  Сумма Название фильма         Дата платежа    Магазин\n",
       "0  Peter Menard   7.99     Rules Human  2007-02-15 22:25:46  Магазин 1\n",
       "1  Peter Menard   7.99     Maiden Home  2007-02-16 22:41:45  Магазин 1\n",
       "2  Peter Menard   2.99     Hyde Doctor  2007-02-19 19:39:56  Магазин 1\n",
       "3  Peter Menard   7.99  Massacre Usual  2007-02-20 17:31:48  Магазин 1\n",
       "4  Peter Menard   5.99  Annie Identity  2007-02-21 12:33:49  Магазин 1"
      ]
     },
     "execution_count": 4,
     "metadata": {},
     "output_type": "execute_result"
    }
   ],
   "source": [
    "df1 = pd.read_csv('sales1.csv')\n",
    "df1.head(5)"
   ]
  },
  {
   "cell_type": "code",
   "execution_count": 5,
   "metadata": {},
   "outputs": [
    {
     "data": {
      "text/plain": [
       "Название фильма\n",
       "Telegraph Voyage    121.86\n",
       "Whale Bikini        113.85\n",
       "Sunrise League      109.85\n",
       "Zorro Ark           108.85\n",
       "Fool Mockingbird    104.86\n",
       "Name: Сумма, dtype: float64"
      ]
     },
     "execution_count": 5,
     "metadata": {},
     "output_type": "execute_result"
    }
   ],
   "source": [
    "#Топ-5 магазина 1\n",
    "Fton5 = df1.groupby(df1['Название фильма'])['Сумма'].sum().sort_values(ascending=False)\n",
    "Fton5.head(5)"
   ]
  },
  {
   "cell_type": "code",
   "execution_count": 6,
   "metadata": {},
   "outputs": [
    {
     "data": {
      "text/html": [
       "<div>\n",
       "<style scoped>\n",
       "    .dataframe tbody tr th:only-of-type {\n",
       "        vertical-align: middle;\n",
       "    }\n",
       "\n",
       "    .dataframe tbody tr th {\n",
       "        vertical-align: top;\n",
       "    }\n",
       "\n",
       "    .dataframe thead th {\n",
       "        text-align: right;\n",
       "    }\n",
       "</style>\n",
       "<table border=\"1\" class=\"dataframe\">\n",
       "  <thead>\n",
       "    <tr style=\"text-align: right;\">\n",
       "      <th></th>\n",
       "      <th>Покупатель</th>\n",
       "      <th>Сумма</th>\n",
       "      <th>Название фильма</th>\n",
       "      <th>Дата платежа</th>\n",
       "      <th>Магазин</th>\n",
       "    </tr>\n",
       "  </thead>\n",
       "  <tbody>\n",
       "    <tr>\n",
       "      <th>0</th>\n",
       "      <td>Peter Menard</td>\n",
       "      <td>1.99</td>\n",
       "      <td>Majestic Floats</td>\n",
       "      <td>2007-02-16 17:23:14</td>\n",
       "      <td>Магазин 2</td>\n",
       "    </tr>\n",
       "    <tr>\n",
       "      <th>1</th>\n",
       "      <td>Harold Martino</td>\n",
       "      <td>5.99</td>\n",
       "      <td>Wash Heavenly</td>\n",
       "      <td>2007-02-17 23:58:17</td>\n",
       "      <td>Магазин 2</td>\n",
       "    </tr>\n",
       "    <tr>\n",
       "      <th>2</th>\n",
       "      <td>Harold Martino</td>\n",
       "      <td>5.99</td>\n",
       "      <td>Lola Agent</td>\n",
       "      <td>2007-02-20 2:11:44</td>\n",
       "      <td>Магазин 2</td>\n",
       "    </tr>\n",
       "    <tr>\n",
       "      <th>3</th>\n",
       "      <td>Harold Martino</td>\n",
       "      <td>2.99</td>\n",
       "      <td>Identity Lover</td>\n",
       "      <td>2007-02-20 13:57:39</td>\n",
       "      <td>Магазин 2</td>\n",
       "    </tr>\n",
       "    <tr>\n",
       "      <th>4</th>\n",
       "      <td>Douglas Graf</td>\n",
       "      <td>4.99</td>\n",
       "      <td>Opposite Necklace</td>\n",
       "      <td>2007-02-16 0:10:50</td>\n",
       "      <td>Магазин 2</td>\n",
       "    </tr>\n",
       "  </tbody>\n",
       "</table>\n",
       "</div>"
      ],
      "text/plain": [
       "       Покупатель  Сумма    Название фильма         Дата платежа    Магазин\n",
       "0    Peter Menard   1.99    Majestic Floats  2007-02-16 17:23:14  Магазин 2\n",
       "1  Harold Martino   5.99      Wash Heavenly  2007-02-17 23:58:17  Магазин 2\n",
       "2  Harold Martino   5.99         Lola Agent   2007-02-20 2:11:44  Магазин 2\n",
       "3  Harold Martino   2.99     Identity Lover  2007-02-20 13:57:39  Магазин 2\n",
       "4    Douglas Graf   4.99  Opposite Necklace   2007-02-16 0:10:50  Магазин 2"
      ]
     },
     "execution_count": 6,
     "metadata": {},
     "output_type": "execute_result"
    }
   ],
   "source": [
    "df2 = pd.read_csv('sales2.csv')\n",
    "df2.head(5)"
   ]
  },
  {
   "cell_type": "code",
   "execution_count": 7,
   "metadata": {},
   "outputs": [
    {
     "data": {
      "text/plain": [
       "Название фильма\n",
       "Teen Apollo           109.86\n",
       "Virtual Spoilers      105.87\n",
       "Strangers Graffiti    104.86\n",
       "Lola Agent            104.84\n",
       "Show Lord             102.85\n",
       "Name: Сумма, dtype: float64"
      ]
     },
     "execution_count": 7,
     "metadata": {},
     "output_type": "execute_result"
    }
   ],
   "source": [
    "#Топ-5 магазина 2\n",
    "Ston5 = df2.groupby(df2['Название фильма'])['Сумма'].sum().sort_values(ascending=False)\n",
    "Ston5.head(5)"
   ]
  }
 ],
 "metadata": {
  "kernelspec": {
   "display_name": "Python 3",
   "language": "python",
   "name": "python3"
  },
  "language_info": {
   "codemirror_mode": {
    "name": "ipython",
    "version": 3
   },
   "file_extension": ".py",
   "mimetype": "text/x-python",
   "name": "python",
   "nbconvert_exporter": "python",
   "pygments_lexer": "ipython3",
   "version": "3.6.8"
  }
 },
 "nbformat": 4,
 "nbformat_minor": 2
}
